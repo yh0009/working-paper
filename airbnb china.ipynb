{
 "cells": [
  {
   "cell_type": "code",
   "execution_count": 1,
   "metadata": {},
   "outputs": [],
   "source": [
    "import pandas as pd"
   ]
  },
  {
   "cell_type": "code",
   "execution_count": 2,
   "metadata": {},
   "outputs": [],
   "source": [
    "df1=pd.read_excel('/Users/hym0509/Desktop/research/scau（新制度主义农业经济学Python based econometrics）/Institutional Economic Geograpy/paper submitted/hedonic-srdd(PAPERS IN REGIONAL SCIENCE)/beijing/beijing.xlsx',delimiter=',')"
   ]
  },
  {
   "cell_type": "code",
   "execution_count": 3,
   "metadata": {},
   "outputs": [
    {
     "name": "stdout",
     "output_type": "stream",
     "text": [
      "mean: 6715.628841656933\n",
      "max: 6791.29212781836\n",
      "min: 6608.67186778423\n",
      "std: 26.094482784042416\n"
     ]
    }
   ],
   "source": [
    "#distance\n",
    "mean=df1.d.mean()\n",
    "max=df1.d.max()\n",
    "min=df1.d.min()\n",
    "std=df1.d.std()\n",
    "\n",
    "print('mean:',mean)\n",
    "print('max:',max)\n",
    "print('min:',min)\n",
    "print('std:',std)"
   ]
  },
  {
   "cell_type": "code",
   "execution_count": 4,
   "metadata": {},
   "outputs": [
    {
     "name": "stdout",
     "output_type": "stream",
     "text": [
      "mean: 0.39992116132791744\n",
      "std: 2.374777641867294\n"
     ]
    }
   ],
   "source": [
    "mean=df1.calculated_host_listings_count_shared_rooms.mean()\n",
    "\n",
    "\n",
    "std=df1.calculated_host_listings_count_shared_rooms.std()\n",
    "\n",
    "print('mean:',mean)\n",
    "\n",
    "print('std:',std)\n"
   ]
  },
  {
   "cell_type": "code",
   "execution_count": 5,
   "metadata": {},
   "outputs": [
    {
     "name": "stdout",
     "output_type": "stream",
     "text": [
      "mean: 3.643930279191732\n",
      "std: 2.933533671200302\n"
     ]
    }
   ],
   "source": [
    "mean=df1.accommodates.mean()\n",
    "\n",
    "std=df1.accommodates.std()\n",
    "\n",
    "print('mean:',mean)\n",
    "\n",
    "print('std:',std)"
   ]
  },
  {
   "cell_type": "code",
   "execution_count": 6,
   "metadata": {},
   "outputs": [
    {
     "name": "stdout",
     "output_type": "stream",
     "text": [
      "mean: 721.4315613013476\n",
      "std: 2635.9984366809645\n"
     ]
    }
   ],
   "source": [
    "mean=df1.security_deposit.mean()\n",
    "\n",
    "std=df1.security_deposit.std()\n",
    "\n",
    "print('mean:',mean)\n",
    "\n",
    "print('std:',std)"
   ]
  },
  {
   "cell_type": "code",
   "execution_count": 3,
   "metadata": {},
   "outputs": [
    {
     "name": "stdout",
     "output_type": "stream",
     "text": [
      "mean: 9.743725172870384\n",
      "std: 0.878908729276805\n"
     ]
    }
   ],
   "source": [
    "mean=df1.review_scores_checkin.mean()\n",
    "\n",
    "std=df1.review_scores_checkin.std()\n",
    "\n",
    "print('mean:',mean)\n",
    "\n",
    "print('std:',std)"
   ]
  },
  {
   "cell_type": "code",
   "execution_count": 8,
   "metadata": {},
   "outputs": [
    {
     "name": "stdout",
     "output_type": "stream",
     "text": [
      "mean: 3.254199873172571\n",
      "std: 22.15848950868746\n"
     ]
    }
   ],
   "source": [
    "mean=df1.minimum_nights.mean()\n",
    "\n",
    "std=df1.minimum_nights.std()\n",
    "\n",
    "print('mean:',mean)\n",
    "\n",
    "print('std:',std)"
   ]
  },
  {
   "cell_type": "code",
   "execution_count": 9,
   "metadata": {},
   "outputs": [
    {
     "name": "stdout",
     "output_type": "stream",
     "text": [
      "mean: 9.786426957831326\n",
      "std: 0.8194313792331676\n"
     ]
    }
   ],
   "source": [
    "mean=df1.review_scores_communication.mean()\n",
    "\n",
    "std=df1.review_scores_communication.std()\n",
    "\n",
    "print('mean:',mean)\n",
    "\n",
    "print('std:',std)"
   ]
  },
  {
   "cell_type": "code",
   "execution_count": 10,
   "metadata": {},
   "outputs": [
    {
     "name": "stdout",
     "output_type": "stream",
     "text": [
      "mean: 9.632915938138382\n",
      "std: 0.8984949612647932\n"
     ]
    }
   ],
   "source": [
    "mean=df1.review_scores_location.mean()\n",
    "\n",
    "std=df1.review_scores_location.std()\n",
    "\n",
    "print('mean:',mean)\n",
    "\n",
    "print('std:',std)"
   ]
  },
  {
   "cell_type": "code",
   "execution_count": 11,
   "metadata": {},
   "outputs": [
    {
     "name": "stdout",
     "output_type": "stream",
     "text": [
      "mean: 670.5127667232249\n",
      "std: 1719.2331713397189\n"
     ]
    }
   ],
   "source": [
    "mean=df1.price.mean()\n",
    "\n",
    "std=df1.price.std()\n",
    "\n",
    "print('mean:',mean)\n",
    "\n",
    "print('std:',std)"
   ]
  },
  {
   "cell_type": "code",
   "execution_count": 5,
   "metadata": {},
   "outputs": [
    {
     "name": "stdout",
     "output_type": "stream",
     "text": [
      "mean: 1.578132329819316\n",
      "std: 1.3872434510801694\n"
     ]
    }
   ],
   "source": [
    "mean=df1.bedrooms.mean()\n",
    "\n",
    "std=df1.bedrooms.std()\n",
    "\n",
    "print('mean:',mean)\n",
    "\n",
    "print('std:',std)"
   ]
  },
  {
   "cell_type": "code",
   "execution_count": 4,
   "metadata": {},
   "outputs": [
    {
     "name": "stdout",
     "output_type": "stream",
     "text": [
      "mean: 1.352084969090616\n",
      "std: 1.2262192614047787\n"
     ]
    }
   ],
   "source": [
    "mean=df1.bathrooms.mean()\n",
    "\n",
    "std=df1.bathrooms.std()\n",
    "\n",
    "print('mean:',mean)\n",
    "\n",
    "print('std:',std)"
   ]
  },
  {
   "cell_type": "code",
   "execution_count": 17,
   "metadata": {},
   "outputs": [
    {
     "name": "stdout",
     "output_type": "stream",
     "text": [
      "                            OLS Regression Results                            \n",
      "==============================================================================\n",
      "Dep. Variable:                  price   R-squared:                       0.093\n",
      "Model:                            OLS   Adj. R-squared:                  0.093\n",
      "Method:                 Least Squares   F-statistic:                     1806.\n",
      "Date:                Fri, 22 Jan 2021   Prob (F-statistic):               0.00\n",
      "Time:                        14:55:36   Log-Likelihood:            -1.3916e+06\n",
      "No. Observations:              158969   AIC:                         2.783e+06\n",
      "Df Residuals:                  158959   BIC:                         2.783e+06\n",
      "Df Model:                           9                                         \n",
      "Covariance Type:            nonrobust                                         \n",
      "===============================================================================================================\n",
      "                                                  coef    std err          t      P>|t|      [0.025      0.975]\n",
      "---------------------------------------------------------------------------------------------------------------\n",
      "Intercept                                    -427.8907     64.122     -6.673      0.000    -553.569    -302.212\n",
      "calculated_host_listings_count_shared_rooms   -35.1935      3.219    -10.934      0.000     -41.502     -28.885\n",
      "accommodates                                   96.3812      2.821     34.169      0.000      90.853     101.910\n",
      "bathrooms                                      65.2624      3.258     20.034      0.000      58.878      71.647\n",
      "bedrooms                                      196.1535      6.982     28.095      0.000     182.469     209.838\n",
      "security_deposit                                0.0425      0.001     29.252      0.000       0.040       0.045\n",
      "minimum_nights                                  1.1982      0.178      6.744      0.000       0.850       1.546\n",
      "review_scores_communication                    -5.0869      8.839     -0.575      0.565     -22.412      12.238\n",
      "review_scores_location                         38.4006      6.447      5.956      0.000      25.764      51.037\n",
      "review_scores_checkin                          -5.0480      8.713     -0.579      0.562     -22.126      12.030\n",
      "==============================================================================\n",
      "Omnibus:                   442211.905   Durbin-Watson:                   1.996\n",
      "Prob(Omnibus):                  0.000   Jarque-Bera (JB):      15359270947.094\n",
      "Skew:                          36.227   Prob(JB):                         0.00\n",
      "Kurtosis:                    1524.047   Cond. No.                     4.58e+04\n",
      "==============================================================================\n",
      "\n",
      "Warnings:\n",
      "[1] Standard Errors assume that the covariance matrix of the errors is correctly specified.\n",
      "[2] The condition number is large, 4.58e+04. This might indicate that there are\n",
      "strong multicollinearity or other numerical problems.\n"
     ]
    }
   ],
   "source": [
    "#SRDD-window1-airport\n",
    "window1 = df1[(df1['d']>6610)&(df1['d']<6760)]\n",
    "\n",
    "import statsmodels.formula.api as smf\n",
    "reg=smf.ols(formula='price~calculated_host_listings_count_shared_rooms+accommodates+bathrooms+bedrooms+security_deposit+minimum_nights+review_scores_communication+review_scores_location+review_scores_checkin',data=window1)\n",
    "results=reg.fit()\n",
    "print(results.summary())"
   ]
  },
  {
   "cell_type": "code",
   "execution_count": 18,
   "metadata": {},
   "outputs": [
    {
     "name": "stdout",
     "output_type": "stream",
     "text": [
      "                            OLS Regression Results                            \n",
      "==============================================================================\n",
      "Dep. Variable:                  price   R-squared:                       0.091\n",
      "Model:                            OLS   Adj. R-squared:                  0.091\n",
      "Method:                 Least Squares   F-statistic:                     1757.\n",
      "Date:                Fri, 22 Jan 2021   Prob (F-statistic):               0.00\n",
      "Time:                        15:01:25   Log-Likelihood:            -1.3763e+06\n",
      "No. Observations:              157119   AIC:                         2.753e+06\n",
      "Df Residuals:                  157109   BIC:                         2.753e+06\n",
      "Df Model:                           9                                         \n",
      "Covariance Type:            nonrobust                                         \n",
      "===============================================================================================================\n",
      "                                                  coef    std err          t      P>|t|      [0.025      0.975]\n",
      "---------------------------------------------------------------------------------------------------------------\n",
      "Intercept                                    -432.7370     65.460     -6.611      0.000    -561.036    -304.438\n",
      "calculated_host_listings_count_shared_rooms   -35.4040      3.237    -10.937      0.000     -41.748     -29.060\n",
      "accommodates                                   96.0504      2.849     33.709      0.000      90.466     101.635\n",
      "bathrooms                                      64.5514      3.278     19.691      0.000      58.126      70.977\n",
      "bedrooms                                      196.4648      7.051     27.863      0.000     182.645     210.285\n",
      "security_deposit                                0.0435      0.001     29.497      0.000       0.041       0.046\n",
      "minimum_nights                                  1.1968      0.179      6.698      0.000       0.847       1.547\n",
      "review_scores_communication                    -5.1947      9.005     -0.577      0.564     -22.843      12.454\n",
      "review_scores_location                         37.5979      6.586      5.708      0.000      24.689      50.507\n",
      "review_scores_checkin                          -3.3854      8.834     -0.383      0.702     -20.700      13.929\n",
      "==============================================================================\n",
      "Omnibus:                   436246.136   Durbin-Watson:                   1.996\n",
      "Prob(Omnibus):                  0.000   Jarque-Bera (JB):      14869419155.211\n",
      "Skew:                          36.051   Prob(JB):                         0.00\n",
      "Kurtosis:                    1508.361   Cond. No.                     4.61e+04\n",
      "==============================================================================\n",
      "\n",
      "Warnings:\n",
      "[1] Standard Errors assume that the covariance matrix of the errors is correctly specified.\n",
      "[2] The condition number is large, 4.61e+04. This might indicate that there are\n",
      "strong multicollinearity or other numerical problems.\n"
     ]
    }
   ],
   "source": [
    "#SRDD-window2-airport\n",
    "window2 = df1[(df1['d']>6610)&(df1['d']<6750)]\n",
    "\n",
    "import statsmodels.formula.api as smf\n",
    "reg=smf.ols(formula='price~calculated_host_listings_count_shared_rooms+accommodates+bathrooms+bedrooms+security_deposit+minimum_nights+review_scores_communication+review_scores_location+review_scores_checkin',data=window2)\n",
    "results=reg.fit()\n",
    "print(results.summary())\n"
   ]
  },
  {
   "cell_type": "code",
   "execution_count": 19,
   "metadata": {},
   "outputs": [
    {
     "name": "stdout",
     "output_type": "stream",
     "text": [
      "                            OLS Regression Results                            \n",
      "==============================================================================\n",
      "Dep. Variable:                  price   R-squared:                       0.091\n",
      "Model:                            OLS   Adj. R-squared:                  0.091\n",
      "Method:                 Least Squares   F-statistic:                     1719.\n",
      "Date:                Fri, 22 Jan 2021   Prob (F-statistic):               0.00\n",
      "Time:                        15:01:55   Log-Likelihood:            -1.3546e+06\n",
      "No. Observations:              154501   AIC:                         2.709e+06\n",
      "Df Residuals:                  154491   BIC:                         2.709e+06\n",
      "Df Model:                           9                                         \n",
      "Covariance Type:            nonrobust                                         \n",
      "===============================================================================================================\n",
      "                                                  coef    std err          t      P>|t|      [0.025      0.975]\n",
      "---------------------------------------------------------------------------------------------------------------\n",
      "Intercept                                    -435.8951     67.086     -6.498      0.000    -567.382    -304.409\n",
      "calculated_host_listings_count_shared_rooms   -35.8635      3.264    -10.987      0.000     -42.261     -29.466\n",
      "accommodates                                   96.7245      2.890     33.465      0.000      91.060     102.389\n",
      "bathrooms                                      64.0332      3.309     19.353      0.000      57.548      70.518\n",
      "bedrooms                                      196.7179      7.156     27.491      0.000     182.693     210.743\n",
      "security_deposit                                0.0432      0.001     29.110      0.000       0.040       0.046\n",
      "minimum_nights                                  1.2124      0.182      6.652      0.000       0.855       1.570\n",
      "review_scores_communication                    -3.9526      9.165     -0.431      0.666     -21.916      14.011\n",
      "review_scores_location                         35.7270      6.738      5.303      0.000      22.521      48.933\n",
      "review_scores_checkin                          -2.2699      8.973     -0.253      0.800     -19.858      15.318\n",
      "==============================================================================\n",
      "Omnibus:                   427851.116   Durbin-Watson:                   1.993\n",
      "Prob(Omnibus):                  0.000   Jarque-Bera (JB):      14201688612.881\n",
      "Skew:                          35.808   Prob(JB):                         0.00\n",
      "Kurtosis:                    1486.558   Cond. No.                     4.68e+04\n",
      "==============================================================================\n",
      "\n",
      "Warnings:\n",
      "[1] Standard Errors assume that the covariance matrix of the errors is correctly specified.\n",
      "[2] The condition number is large, 4.68e+04. This might indicate that there are\n",
      "strong multicollinearity or other numerical problems.\n"
     ]
    }
   ],
   "source": [
    "#SRDD-window3-airport\n",
    "window3 = df1[(df1['d']>6610)&(df1['d']<6740)]\n",
    "\n",
    "import statsmodels.formula.api as smf\n",
    "reg=smf.ols(formula='price~calculated_host_listings_count_shared_rooms+accommodates+bathrooms+bedrooms+security_deposit+minimum_nights+review_scores_communication+review_scores_location+review_scores_checkin',data=window3)\n",
    "results=reg.fit()\n",
    "print(results.summary())"
   ]
  },
  {
   "cell_type": "code",
   "execution_count": 20,
   "metadata": {},
   "outputs": [
    {
     "name": "stdout",
     "output_type": "stream",
     "text": [
      "                            OLS Regression Results                            \n",
      "==============================================================================\n",
      "Dep. Variable:                  price   R-squared:                       0.102\n",
      "Model:                            OLS   Adj. R-squared:                  0.102\n",
      "Method:                 Least Squares   F-statistic:                     1714.\n",
      "Date:                Fri, 22 Jan 2021   Prob (F-statistic):               0.00\n",
      "Time:                        15:02:16   Log-Likelihood:            -1.2000e+06\n",
      "No. Observations:              136256   AIC:                         2.400e+06\n",
      "Df Residuals:                  136246   BIC:                         2.400e+06\n",
      "Df Model:                           9                                         \n",
      "Covariance Type:            nonrobust                                         \n",
      "===============================================================================================================\n",
      "                                                  coef    std err          t      P>|t|      [0.025      0.975]\n",
      "---------------------------------------------------------------------------------------------------------------\n",
      "Intercept                                    -451.8307     75.057     -6.020      0.000    -598.940    -304.721\n",
      "calculated_host_listings_count_shared_rooms   -52.3180      3.851    -13.585      0.000     -59.866     -44.770\n",
      "accommodates                                   89.3969      3.192     28.009      0.000      83.141      95.653\n",
      "bathrooms                                     282.8438      7.495     37.737      0.000     268.154     297.534\n",
      "bedrooms                                      105.8825      8.306     12.747      0.000      89.602     122.163\n",
      "security_deposit                                0.0492      0.002     29.869      0.000       0.046       0.052\n",
      "minimum_nights                                  1.3078      0.213      6.151      0.000       0.891       1.724\n",
      "review_scores_communication                    -6.3104     10.117     -0.624      0.533     -26.139      13.519\n",
      "review_scores_location                         30.8859      7.614      4.057      0.000      15.963      45.809\n",
      "review_scores_checkin                          -3.5717      9.894     -0.361      0.718     -22.965      15.821\n",
      "==============================================================================\n",
      "Omnibus:                   375013.265   Durbin-Watson:                   1.994\n",
      "Prob(Omnibus):                  0.000   Jarque-Bera (JB):      11288038898.960\n",
      "Skew:                          35.270   Prob(JB):                         0.00\n",
      "Kurtosis:                    1411.293   Cond. No.                     4.73e+04\n",
      "==============================================================================\n",
      "\n",
      "Warnings:\n",
      "[1] Standard Errors assume that the covariance matrix of the errors is correctly specified.\n",
      "[2] The condition number is large, 4.73e+04. This might indicate that there are\n",
      "strong multicollinearity or other numerical problems.\n"
     ]
    }
   ],
   "source": [
    "#SRDD-window4-airport\n",
    "window4 = df1[(df1['d']>6610)&(df1['d']<6730)]\n",
    "\n",
    "import statsmodels.formula.api as smf\n",
    "reg=smf.ols(formula='price~calculated_host_listings_count_shared_rooms+accommodates+bathrooms+bedrooms+security_deposit+minimum_nights+review_scores_communication+review_scores_location+review_scores_checkin',data=window4)\n",
    "results=reg.fit()\n",
    "print(results.summary())"
   ]
  },
  {
   "cell_type": "code",
   "execution_count": 21,
   "metadata": {},
   "outputs": [],
   "source": [
    "df2=pd.read_excel('/Users/hym0509/Desktop/research/spatial big data hedonic econometrics/hedonic modeling in ai(applied econometics journals)/hedonic-cv-srdd/hongkong airbnb property rights/hongkong.xlsx',delimiter=',')"
   ]
  },
  {
   "cell_type": "code",
   "execution_count": 22,
   "metadata": {},
   "outputs": [
    {
     "name": "stdout",
     "output_type": "stream",
     "text": [
      "mean: 7667.664910616254\n",
      "max: 7688.46402801426\n",
      "min: 7638.62533717106\n",
      "std: 5.131349206952553\n"
     ]
    }
   ],
   "source": [
    "#distance\n",
    "mean=df2.d.mean()\n",
    "max=df2.d.max()\n",
    "min=df2.d.min()\n",
    "std=df2.d.std()\n",
    "\n",
    "print('mean:',mean)\n",
    "print('max:',max)\n",
    "print('min:',min)\n",
    "print('std:',std)"
   ]
  },
  {
   "cell_type": "code",
   "execution_count": 42,
   "metadata": {},
   "outputs": [
    {
     "name": "stdout",
     "output_type": "stream",
     "text": [
      "                            OLS Regression Results                            \n",
      "==============================================================================\n",
      "Dep. Variable:                  price   R-squared:                       0.095\n",
      "Model:                            OLS   Adj. R-squared:                  0.095\n",
      "Method:                 Least Squares   F-statistic:                     711.2\n",
      "Date:                Fri, 22 Jan 2021   Prob (F-statistic):               0.00\n",
      "Time:                        15:24:21   Log-Likelihood:            -5.1305e+05\n",
      "No. Observations:               60969   AIC:                         1.026e+06\n",
      "Df Residuals:                   60959   BIC:                         1.026e+06\n",
      "Df Model:                           9                                         \n",
      "Covariance Type:            nonrobust                                         \n",
      "===============================================================================================================\n",
      "                                                  coef    std err          t      P>|t|      [0.025      0.975]\n",
      "---------------------------------------------------------------------------------------------------------------\n",
      "Intercept                                    -206.3474     63.957     -3.226      0.001    -331.703     -80.992\n",
      "calculated_host_listings_count_shared_rooms   -15.0771      0.753    -20.020      0.000     -16.553     -13.601\n",
      "accommodates                                   72.4361      2.287     31.672      0.000      67.953      76.919\n",
      "bathrooms                                      51.6260      9.198      5.613      0.000      33.597      69.655\n",
      "bedrooms                                      148.0331      6.704     22.080      0.000     134.892     161.174\n",
      "security_deposit                                0.0398      0.002     21.832      0.000       0.036       0.043\n",
      "minimum_nights                                  0.3689      0.159      2.317      0.020       0.057       0.681\n",
      "review_scores_communication                    44.2049      7.825      5.649      0.000      28.869      59.541\n",
      "review_scores_location                         -2.7796      7.667     -0.363      0.717     -17.807      12.248\n",
      "review_scores_checkin                           0.1973      7.932      0.025      0.980     -15.349      15.744\n",
      "==============================================================================\n",
      "Omnibus:                   161661.999   Durbin-Watson:                   0.977\n",
      "Prob(Omnibus):                  0.000   Jarque-Bera (JB):       4631745132.098\n",
      "Skew:                          31.846   Prob(JB):                         0.00\n",
      "Kurtosis:                    1351.776   Cond. No.                     3.89e+04\n",
      "==============================================================================\n",
      "\n",
      "Warnings:\n",
      "[1] Standard Errors assume that the covariance matrix of the errors is correctly specified.\n",
      "[2] The condition number is large, 3.89e+04. This might indicate that there are\n",
      "strong multicollinearity or other numerical problems.\n"
     ]
    }
   ],
   "source": [
    "#SRDD-window5-airport\n",
    "window5 = df2[(df2['d']>7638)&(df2['d']<7670)]\n",
    "\n",
    "import statsmodels.formula.api as smf\n",
    "reg=smf.ols(formula='price~calculated_host_listings_count_shared_rooms+accommodates+bathrooms+bedrooms+security_deposit+minimum_nights+review_scores_communication+review_scores_location+review_scores_checkin',data=window5)\n",
    "results=reg.fit()\n",
    "print(results.summary())"
   ]
  },
  {
   "cell_type": "code",
   "execution_count": 36,
   "metadata": {},
   "outputs": [
    {
     "name": "stdout",
     "output_type": "stream",
     "text": [
      "                            OLS Regression Results                            \n",
      "==============================================================================\n",
      "Dep. Variable:                  price   R-squared:                       0.108\n",
      "Model:                            OLS   Adj. R-squared:                  0.108\n",
      "Method:                 Least Squares   F-statistic:                     1119.\n",
      "Date:                Fri, 22 Jan 2021   Prob (F-statistic):               0.00\n",
      "Time:                        15:22:52   Log-Likelihood:            -6.9096e+05\n",
      "No. Observations:               82990   AIC:                         1.382e+06\n",
      "Df Residuals:                   82980   BIC:                         1.382e+06\n",
      "Df Model:                           9                                         \n",
      "Covariance Type:            nonrobust                                         \n",
      "===============================================================================================================\n",
      "                                                  coef    std err          t      P>|t|      [0.025      0.975]\n",
      "---------------------------------------------------------------------------------------------------------------\n",
      "Intercept                                    -289.9038     52.886     -5.482      0.000    -393.561    -186.247\n",
      "calculated_host_listings_count_shared_rooms   -17.4400      0.680    -25.657      0.000     -18.772     -16.108\n",
      "accommodates                                   72.1742      1.912     37.742      0.000      68.426      75.922\n",
      "bathrooms                                      92.0232      7.942     11.586      0.000      76.456     107.590\n",
      "bedrooms                                      140.6053      5.386     26.107      0.000     130.049     151.161\n",
      "security_deposit                                0.0453      0.001     36.527      0.000       0.043       0.048\n",
      "minimum_nights                                  0.3296      0.137      2.400      0.016       0.060       0.599\n",
      "review_scores_communication                    40.0561      6.310      6.348      0.000      27.688      52.425\n",
      "review_scores_location                         -3.8344      6.084     -0.630      0.529     -15.758       8.090\n",
      "review_scores_checkin                          15.2591      6.422      2.376      0.018       2.671      27.847\n",
      "==============================================================================\n",
      "Omnibus:                   221231.739   Durbin-Watson:                   1.102\n",
      "Prob(Omnibus):                  0.000   Jarque-Bera (JB):       7439673467.462\n",
      "Skew:                          32.224   Prob(JB):                         0.00\n",
      "Kurtosis:                    1468.379   Cond. No.                     4.77e+04\n",
      "==============================================================================\n",
      "\n",
      "Warnings:\n",
      "[1] Standard Errors assume that the covariance matrix of the errors is correctly specified.\n",
      "[2] The condition number is large, 4.77e+04. This might indicate that there are\n",
      "strong multicollinearity or other numerical problems.\n"
     ]
    }
   ],
   "source": [
    "#SRDD-window6-airport\n",
    "window6 = df2[(df2['d']>7638)&(df2['d']<7675)]\n",
    "\n",
    "import statsmodels.formula.api as smf\n",
    "reg=smf.ols(formula='price~calculated_host_listings_count_shared_rooms+accommodates+bathrooms+bedrooms+security_deposit+minimum_nights+review_scores_communication+review_scores_location+review_scores_checkin',data=window6)\n",
    "results=reg.fit()\n",
    "print(results.summary())"
   ]
  },
  {
   "cell_type": "code",
   "execution_count": 43,
   "metadata": {},
   "outputs": [
    {
     "name": "stdout",
     "output_type": "stream",
     "text": [
      "                            OLS Regression Results                            \n",
      "==============================================================================\n",
      "Dep. Variable:                  price   R-squared:                       0.108\n",
      "Model:                            OLS   Adj. R-squared:                  0.108\n",
      "Method:                 Least Squares   F-statistic:                     1143.\n",
      "Date:                Fri, 22 Jan 2021   Prob (F-statistic):               0.00\n",
      "Time:                        15:25:30   Log-Likelihood:            -7.0579e+05\n",
      "No. Observations:               84874   AIC:                         1.412e+06\n",
      "Df Residuals:                   84864   BIC:                         1.412e+06\n",
      "Df Model:                           9                                         \n",
      "Covariance Type:            nonrobust                                         \n",
      "===============================================================================================================\n",
      "                                                  coef    std err          t      P>|t|      [0.025      0.975]\n",
      "---------------------------------------------------------------------------------------------------------------\n",
      "Intercept                                    -294.5891     51.876     -5.679      0.000    -396.265    -192.913\n",
      "calculated_host_listings_count_shared_rooms   -17.4605      0.672    -25.964      0.000     -18.779     -16.142\n",
      "accommodates                                   72.6952      1.882     38.635      0.000      69.007      76.383\n",
      "bathrooms                                      92.0626      7.819     11.774      0.000      76.738     107.387\n",
      "bedrooms                                      138.4111      5.288     26.176      0.000     128.047     148.775\n",
      "security_deposit                                0.0434      0.001     36.255      0.000       0.041       0.046\n",
      "minimum_nights                                  0.3468      0.132      2.633      0.008       0.089       0.605\n",
      "review_scores_communication                    38.7683      6.215      6.238      0.000      26.587      50.950\n",
      "review_scores_location                         -1.2330      5.936     -0.208      0.835     -12.867      10.401\n",
      "review_scores_checkin                          14.4897      6.320      2.293      0.022       2.103      26.877\n",
      "==============================================================================\n",
      "Omnibus:                   226981.410   Durbin-Watson:                   1.103\n",
      "Prob(Omnibus):                  0.000   Jarque-Bera (JB):       7887123691.075\n",
      "Skew:                          32.487   Prob(JB):                         0.00\n",
      "Kurtosis:                    1494.991   Cond. No.                     4.84e+04\n",
      "==============================================================================\n",
      "\n",
      "Warnings:\n",
      "[1] Standard Errors assume that the covariance matrix of the errors is correctly specified.\n",
      "[2] The condition number is large, 4.84e+04. This might indicate that there are\n",
      "strong multicollinearity or other numerical problems.\n"
     ]
    }
   ],
   "source": [
    "#SRDD-window7-airport\n",
    "window7 = df2[(df2['d']>7638)&(df2['d']<7680)]\n",
    "\n",
    "import statsmodels.formula.api as smf\n",
    "reg=smf.ols(formula='price~calculated_host_listings_count_shared_rooms+accommodates+bathrooms+bedrooms+security_deposit+minimum_nights+review_scores_communication+review_scores_location+review_scores_checkin',data=window7)\n",
    "results=reg.fit()\n",
    "print(results.summary())"
   ]
  },
  {
   "cell_type": "code",
   "execution_count": 44,
   "metadata": {},
   "outputs": [
    {
     "name": "stdout",
     "output_type": "stream",
     "text": [
      "                            OLS Regression Results                            \n",
      "==============================================================================\n",
      "Dep. Variable:                  price   R-squared:                       0.110\n",
      "Model:                            OLS   Adj. R-squared:                  0.110\n",
      "Method:                 Least Squares   F-statistic:                     1180.\n",
      "Date:                Fri, 22 Jan 2021   Prob (F-statistic):               0.00\n",
      "Time:                        15:25:43   Log-Likelihood:            -7.1402e+05\n",
      "No. Observations:               85899   AIC:                         1.428e+06\n",
      "Df Residuals:                   85889   BIC:                         1.428e+06\n",
      "Df Model:                           9                                         \n",
      "Covariance Type:            nonrobust                                         \n",
      "===============================================================================================================\n",
      "                                                  coef    std err          t      P>|t|      [0.025      0.975]\n",
      "---------------------------------------------------------------------------------------------------------------\n",
      "Intercept                                    -294.8705     51.036     -5.778      0.000    -394.901    -194.840\n",
      "calculated_host_listings_count_shared_rooms   -17.7344      0.663    -26.742      0.000     -19.034     -16.435\n",
      "accommodates                                   72.4420      1.865     38.841      0.000      68.786      76.098\n",
      "bathrooms                                     103.5699      7.754     13.357      0.000      88.372     118.768\n",
      "bedrooms                                      138.5271      5.255     26.363      0.000     128.228     148.826\n",
      "security_deposit                                0.0437      0.001     36.639      0.000       0.041       0.046\n",
      "minimum_nights                                  0.3416      0.131      2.604      0.009       0.085       0.599\n",
      "review_scores_communication                    39.3223      6.144      6.401      0.000      27.281      51.364\n",
      "review_scores_location                         -2.2820      5.822     -0.392      0.695     -13.692       9.128\n",
      "review_scores_checkin                          13.6692      6.198      2.205      0.027       1.520      25.818\n",
      "==============================================================================\n",
      "Omnibus:                   229655.147   Durbin-Watson:                   1.107\n",
      "Prob(Omnibus):                  0.000   Jarque-Bera (JB):       8017741938.580\n",
      "Skew:                          32.458   Prob(JB):                         0.00\n",
      "Kurtosis:                    1498.301   Cond. No.                     4.78e+04\n",
      "==============================================================================\n",
      "\n",
      "Warnings:\n",
      "[1] Standard Errors assume that the covariance matrix of the errors is correctly specified.\n",
      "[2] The condition number is large, 4.78e+04. This might indicate that there are\n",
      "strong multicollinearity or other numerical problems.\n"
     ]
    }
   ],
   "source": [
    "#SRDD-window8-airport\n",
    "window8 = df2[(df2['d']>7638)&(df2['d']<7685)]\n",
    "\n",
    "import statsmodels.formula.api as smf\n",
    "reg=smf.ols(formula='price~calculated_host_listings_count_shared_rooms+accommodates+bathrooms+bedrooms+security_deposit+minimum_nights+review_scores_communication+review_scores_location+review_scores_checkin',data=window8)\n",
    "results=reg.fit()\n",
    "print(results.summary())"
   ]
  },
  {
   "cell_type": "code",
   "execution_count": 45,
   "metadata": {},
   "outputs": [],
   "source": [
    "df3=pd.read_excel('/Users/hym0509/Desktop/research/scau（新制度主义农业经济学Python based econometrics）/Institutional Economic Geograpy/paper submitted/hedonic-srdd(APPLIED ECONOMIC ANALYSIS)/china.xlsx',delimiter=',')"
   ]
  },
  {
   "cell_type": "code",
   "execution_count": 46,
   "metadata": {},
   "outputs": [
    {
     "name": "stdout",
     "output_type": "stream",
     "text": [
      "mean: 6970.536475822686\n",
      "max: 7688.46402801426\n",
      "min: 6608.67186778423\n",
      "std: 422.14836019667575\n"
     ]
    }
   ],
   "source": [
    "#distance\n",
    "mean=df3.d.mean()\n",
    "max=df3.d.max()\n",
    "min=df3.d.min()\n",
    "std=df3.d.std()\n",
    "\n",
    "print('mean:',mean)\n",
    "print('max:',max)\n",
    "print('min:',min)\n",
    "print('std:',std)"
   ]
  },
  {
   "cell_type": "code",
   "execution_count": 47,
   "metadata": {},
   "outputs": [
    {
     "name": "stdout",
     "output_type": "stream",
     "text": [
      "                            OLS Regression Results                            \n",
      "==============================================================================\n",
      "Dep. Variable:                  price   R-squared:                       0.098\n",
      "Model:                            OLS   Adj. R-squared:                  0.098\n",
      "Method:                 Least Squares   F-statistic:                     2658.\n",
      "Date:                Fri, 22 Jan 2021   Prob (F-statistic):               0.00\n",
      "Time:                        21:54:06   Log-Likelihood:            -2.1204e+06\n",
      "No. Observations:              245446   AIC:                         4.241e+06\n",
      "Df Residuals:                  245435   BIC:                         4.241e+06\n",
      "Df Model:                          10                                         \n",
      "Covariance Type:            nonrobust                                         \n",
      "===============================================================================================================\n",
      "                                                  coef    std err          t      P>|t|      [0.025      0.975]\n",
      "---------------------------------------------------------------------------------------------------------------\n",
      "Intercept                                    -513.5241     44.002    -11.671      0.000    -599.766    -427.282\n",
      "system                                        244.0225      6.064     40.240      0.000     232.137     255.908\n",
      "calculated_host_listings_count_shared_rooms   -19.0948      0.840    -22.743      0.000     -20.740     -17.449\n",
      "accommodates                                   86.1404      1.784     48.277      0.000      82.643      89.638\n",
      "bathrooms                                      72.5935      2.773     26.178      0.000      67.158      78.029\n",
      "bedrooms                                      186.7092      4.583     40.743      0.000     177.727     195.691\n",
      "security_deposit                                0.0424      0.001     41.738      0.000       0.040       0.044\n",
      "minimum_nights                                  0.8680      0.119      7.280      0.000       0.634       1.102\n",
      "review_scores_communication                    16.4241      5.763      2.850      0.004       5.128      27.720\n",
      "review_scores_location                         20.9835      4.644      4.518      0.000      11.882      30.085\n",
      "review_scores_checkin                           3.3004      5.758      0.573      0.566      -7.984      14.585\n",
      "==============================================================================\n",
      "Omnibus:                   692042.358   Durbin-Watson:                   1.834\n",
      "Prob(Omnibus):                  0.000   Jarque-Bera (JB):      29857264856.443\n",
      "Skew:                          37.467   Prob(JB):                         0.00\n",
      "Kurtosis:                    1710.004   Cond. No.                     4.61e+04\n",
      "==============================================================================\n",
      "\n",
      "Warnings:\n",
      "[1] Standard Errors assume that the covariance matrix of the errors is correctly specified.\n",
      "[2] The condition number is large, 4.61e+04. This might indicate that there are\n",
      "strong multicollinearity or other numerical problems.\n"
     ]
    }
   ],
   "source": [
    "#SRDD-window9-airport\n",
    "window9 = df3[(df3['d']>6608)&(df3['d']<7685)]\n",
    "\n",
    "import statsmodels.formula.api as smf\n",
    "reg=smf.ols(formula='price~system+calculated_host_listings_count_shared_rooms+accommodates+bathrooms+bedrooms+security_deposit+minimum_nights+review_scores_communication+review_scores_location+review_scores_checkin',data=window9)\n",
    "results=reg.fit()\n",
    "print(results.summary())"
   ]
  },
  {
   "cell_type": "code",
   "execution_count": 53,
   "metadata": {},
   "outputs": [
    {
     "name": "stdout",
     "output_type": "stream",
     "text": [
      "                            OLS Regression Results                            \n",
      "==============================================================================\n",
      "Dep. Variable:                  price   R-squared:                       0.097\n",
      "Model:                            OLS   Adj. R-squared:                  0.097\n",
      "Method:                 Least Squares   F-statistic:                     2636.\n",
      "Date:                Fri, 22 Jan 2021   Prob (F-statistic):               0.00\n",
      "Time:                        22:01:43   Log-Likelihood:            -2.1119e+06\n",
      "No. Observations:              244421   AIC:                         4.224e+06\n",
      "Df Residuals:                  244410   BIC:                         4.224e+06\n",
      "Df Model:                          10                                         \n",
      "Covariance Type:            nonrobust                                         \n",
      "===============================================================================================================\n",
      "                                                  coef    std err          t      P>|t|      [0.025      0.975]\n",
      "---------------------------------------------------------------------------------------------------------------\n",
      "Intercept                                    -515.4720     44.287    -11.639      0.000    -602.273    -428.671\n",
      "system                                        243.8871      6.099     39.987      0.000     231.933     255.841\n",
      "calculated_host_listings_count_shared_rooms   -19.1145      0.849    -22.505      0.000     -20.779     -17.450\n",
      "accommodates                                   86.2536      1.792     48.142      0.000      82.742      89.765\n",
      "bathrooms                                      71.9641      2.778     25.901      0.000      66.518      77.410\n",
      "bedrooms                                      186.1009      4.598     40.474      0.000     177.089     195.113\n",
      "security_deposit                                0.0423      0.001     41.546      0.000       0.040       0.044\n",
      "minimum_nights                                  0.8697      0.119      7.280      0.000       0.636       1.104\n",
      "review_scores_communication                    16.0319      5.793      2.767      0.006       4.678      27.386\n",
      "review_scores_location                         21.6358      4.678      4.625      0.000      12.467      30.804\n",
      "review_scores_checkin                           3.3918      5.808      0.584      0.559      -7.991      14.775\n",
      "==============================================================================\n",
      "Omnibus:                   688937.332   Durbin-Watson:                   1.834\n",
      "Prob(Omnibus):                  0.000   Jarque-Bera (JB):      29591694276.315\n",
      "Skew:                          37.437   Prob(JB):                         0.00\n",
      "Kurtosis:                    1705.950   Cond. No.                     4.63e+04\n",
      "==============================================================================\n",
      "\n",
      "Warnings:\n",
      "[1] Standard Errors assume that the covariance matrix of the errors is correctly specified.\n",
      "[2] The condition number is large, 4.63e+04. This might indicate that there are\n",
      "strong multicollinearity or other numerical problems.\n"
     ]
    }
   ],
   "source": [
    "#SRDD-window10-airport\n",
    "window10 = df3[(df3['d']>6608)&(df3['d']<7680)]\n",
    "\n",
    "import statsmodels.formula.api as smf\n",
    "reg=smf.ols(formula='price~system+calculated_host_listings_count_shared_rooms+accommodates+bathrooms+bedrooms+security_deposit+minimum_nights+review_scores_communication+review_scores_location+review_scores_checkin',data=window10)\n",
    "results=reg.fit()\n",
    "print(results.summary())"
   ]
  },
  {
   "cell_type": "code",
   "execution_count": 54,
   "metadata": {},
   "outputs": [
    {
     "name": "stdout",
     "output_type": "stream",
     "text": [
      "                            OLS Regression Results                            \n",
      "==============================================================================\n",
      "Dep. Variable:                  price   R-squared:                       0.097\n",
      "Model:                            OLS   Adj. R-squared:                  0.097\n",
      "Method:                 Least Squares   F-statistic:                     2617.\n",
      "Date:                Fri, 22 Jan 2021   Prob (F-statistic):               0.00\n",
      "Time:                        22:02:04   Log-Likelihood:            -2.0965e+06\n",
      "No. Observations:              242537   AIC:                         4.193e+06\n",
      "Df Residuals:                  242526   BIC:                         4.193e+06\n",
      "Df Model:                          10                                         \n",
      "Covariance Type:            nonrobust                                         \n",
      "===============================================================================================================\n",
      "                                                  coef    std err          t      P>|t|      [0.025      0.975]\n",
      "---------------------------------------------------------------------------------------------------------------\n",
      "Intercept                                    -515.9779     44.596    -11.570      0.000    -603.385    -428.571\n",
      "system                                        246.2009      6.173     39.883      0.000     234.102     258.300\n",
      "calculated_host_listings_count_shared_rooms   -19.1370      0.853    -22.444      0.000     -20.808     -17.466\n",
      "accommodates                                   85.9925      1.804     47.676      0.000      82.457      89.528\n",
      "bathrooms                                      71.8424      2.790     25.753      0.000      66.375      77.310\n",
      "bedrooms                                      187.2976      4.632     40.439      0.000     178.220     196.376\n",
      "security_deposit                                0.0430      0.001     41.687      0.000       0.041       0.045\n",
      "minimum_nights                                  0.8786      0.122      7.230      0.000       0.640       1.117\n",
      "review_scores_communication                    16.5182      5.828      2.834      0.005       5.096      27.941\n",
      "review_scores_location                         20.8911      4.718      4.428      0.000      11.644      30.138\n",
      "review_scores_checkin                           3.5663      5.844      0.610      0.542      -7.888      15.021\n",
      "==============================================================================\n",
      "Omnibus:                   682724.671   Durbin-Watson:                   1.834\n",
      "Prob(Omnibus):                  0.000   Jarque-Bera (JB):      28947418673.366\n",
      "Skew:                          37.308   Prob(JB):                         0.00\n",
      "Kurtosis:                    1693.827   Cond. No.                     4.61e+04\n",
      "==============================================================================\n",
      "\n",
      "Warnings:\n",
      "[1] Standard Errors assume that the covariance matrix of the errors is correctly specified.\n",
      "[2] The condition number is large, 4.61e+04. This might indicate that there are\n",
      "strong multicollinearity or other numerical problems.\n"
     ]
    }
   ],
   "source": [
    "#SRDD-window11-airport\n",
    "window11 = df3[(df3['d']>6608)&(df3['d']<7675)]\n",
    "\n",
    "import statsmodels.formula.api as smf\n",
    "reg=smf.ols(formula='price~system+calculated_host_listings_count_shared_rooms+accommodates+bathrooms+bedrooms+security_deposit+minimum_nights+review_scores_communication+review_scores_location+review_scores_checkin',data=window11)\n",
    "results=reg.fit()\n",
    "print(results.summary())"
   ]
  },
  {
   "cell_type": "code",
   "execution_count": 55,
   "metadata": {},
   "outputs": [
    {
     "name": "stdout",
     "output_type": "stream",
     "text": [
      "                            OLS Regression Results                            \n",
      "==============================================================================\n",
      "Dep. Variable:                  price   R-squared:                       0.093\n",
      "Model:                            OLS   Adj. R-squared:                  0.093\n",
      "Method:                 Least Squares   F-statistic:                     2271.\n",
      "Date:                Fri, 22 Jan 2021   Prob (F-statistic):               0.00\n",
      "Time:                        22:02:30   Log-Likelihood:            -1.9142e+06\n",
      "No. Observations:              220516   AIC:                         3.828e+06\n",
      "Df Residuals:                  220505   BIC:                         3.829e+06\n",
      "Df Model:                          10                                         \n",
      "Covariance Type:            nonrobust                                         \n",
      "===============================================================================================================\n",
      "                                                  coef    std err          t      P>|t|      [0.025      0.975]\n",
      "---------------------------------------------------------------------------------------------------------------\n",
      "Intercept                                    -462.8571     48.039     -9.635      0.000    -557.013    -368.701\n",
      "system                                        186.9217      7.128     26.225      0.000     172.952     200.892\n",
      "calculated_host_listings_count_shared_rooms   -17.5446      0.889    -19.740      0.000     -19.287     -15.803\n",
      "accommodates                                   85.7260      1.952     43.913      0.000      81.900      89.552\n",
      "bathrooms                                      68.8281      2.907     23.678      0.000      63.131      74.526\n",
      "bedrooms                                      191.9466      5.050     38.008      0.000     182.048     201.845\n",
      "security_deposit                                0.0414      0.001     35.299      0.000       0.039       0.044\n",
      "minimum_nights                                  0.9054      0.129      7.023      0.000       0.653       1.158\n",
      "review_scores_communication                    14.4071      6.373      2.261      0.024       1.917      26.898\n",
      "review_scores_location                         24.7872      5.110      4.851      0.000      14.773      34.802\n",
      "review_scores_checkin                          -3.7447      6.369     -0.588      0.557     -16.228       8.739\n",
      "==============================================================================\n",
      "Omnibus:                   616024.375   Durbin-Watson:                   1.829\n",
      "Prob(Omnibus):                  0.000   Jarque-Bera (JB):      23690090519.669\n",
      "Skew:                          36.591   Prob(JB):                         0.00\n",
      "Kurtosis:                    1607.048   Cond. No.                     4.32e+04\n",
      "==============================================================================\n",
      "\n",
      "Warnings:\n",
      "[1] Standard Errors assume that the covariance matrix of the errors is correctly specified.\n",
      "[2] The condition number is large, 4.32e+04. This might indicate that there are\n",
      "strong multicollinearity or other numerical problems.\n"
     ]
    }
   ],
   "source": [
    "#SRDD-window12-airport\n",
    "window12 = df3[(df3['d']>6608)&(df3['d']<7670)]\n",
    "\n",
    "import statsmodels.formula.api as smf\n",
    "reg=smf.ols(formula='price~system+calculated_host_listings_count_shared_rooms+accommodates+bathrooms+bedrooms+security_deposit+minimum_nights+review_scores_communication+review_scores_location+review_scores_checkin',data=window12)\n",
    "results=reg.fit()\n",
    "print(results.summary())"
   ]
  }
 ],
 "metadata": {
  "kernelspec": {
   "display_name": "Python 3",
   "language": "python",
   "name": "python3"
  },
  "language_info": {
   "codemirror_mode": {
    "name": "ipython",
    "version": 3
   },
   "file_extension": ".py",
   "mimetype": "text/x-python",
   "name": "python",
   "nbconvert_exporter": "python",
   "pygments_lexer": "ipython3",
   "version": "3.7.4"
  }
 },
 "nbformat": 4,
 "nbformat_minor": 2
}
